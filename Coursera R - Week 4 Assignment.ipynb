{
 "cells": [
  {
   "cell_type": "code",
   "execution_count": null,
   "metadata": {},
   "outputs": [],
   "source": [
    "# Getting the data\n",
    "unzip(zipfile =\"getdata_projectfiles_UCI HAR Dataset.zip\", exdir=\"./data\")"
   ]
  },
  {
   "cell_type": "code",
   "execution_count": 3,
   "metadata": {},
   "outputs": [
    {
     "data": {
      "text/html": [
       "'UCI HAR Dataset'"
      ],
      "text/latex": [
       "'UCI HAR Dataset'"
      ],
      "text/markdown": [
       "'UCI HAR Dataset'"
      ],
      "text/plain": [
       "[1] \"UCI HAR Dataset\""
      ]
     },
     "metadata": {},
     "output_type": "display_data"
    }
   ],
   "source": [
    "list.files(\"./data\")"
   ]
  },
  {
   "cell_type": "code",
   "execution_count": 4,
   "metadata": {},
   "outputs": [
    {
     "data": {
      "text/html": [
       "<ol class=list-inline>\n",
       "\t<li>'activity_labels.txt'</li>\n",
       "\t<li>'features_info.txt'</li>\n",
       "\t<li>'features.txt'</li>\n",
       "\t<li>'README.txt'</li>\n",
       "\t<li>'test/Inertial Signals/body_acc_x_test.txt'</li>\n",
       "\t<li>'test/Inertial Signals/body_acc_y_test.txt'</li>\n",
       "\t<li>'test/Inertial Signals/body_acc_z_test.txt'</li>\n",
       "\t<li>'test/Inertial Signals/body_gyro_x_test.txt'</li>\n",
       "\t<li>'test/Inertial Signals/body_gyro_y_test.txt'</li>\n",
       "\t<li>'test/Inertial Signals/body_gyro_z_test.txt'</li>\n",
       "\t<li>'test/Inertial Signals/total_acc_x_test.txt'</li>\n",
       "\t<li>'test/Inertial Signals/total_acc_y_test.txt'</li>\n",
       "\t<li>'test/Inertial Signals/total_acc_z_test.txt'</li>\n",
       "\t<li>'test/subject_test.txt'</li>\n",
       "\t<li>'test/X_test.txt'</li>\n",
       "\t<li>'test/y_test.txt'</li>\n",
       "\t<li>'train/Inertial Signals/body_acc_x_train.txt'</li>\n",
       "\t<li>'train/Inertial Signals/body_acc_y_train.txt'</li>\n",
       "\t<li>'train/Inertial Signals/body_acc_z_train.txt'</li>\n",
       "\t<li>'train/Inertial Signals/body_gyro_x_train.txt'</li>\n",
       "\t<li>'train/Inertial Signals/body_gyro_y_train.txt'</li>\n",
       "\t<li>'train/Inertial Signals/body_gyro_z_train.txt'</li>\n",
       "\t<li>'train/Inertial Signals/total_acc_x_train.txt'</li>\n",
       "\t<li>'train/Inertial Signals/total_acc_y_train.txt'</li>\n",
       "\t<li>'train/Inertial Signals/total_acc_z_train.txt'</li>\n",
       "\t<li>'train/subject_train.txt'</li>\n",
       "\t<li>'train/X_train.txt'</li>\n",
       "\t<li>'train/y_train.txt'</li>\n",
       "</ol>\n"
      ],
      "text/latex": [
       "\\begin{enumerate*}\n",
       "\\item 'activity\\_labels.txt'\n",
       "\\item 'features\\_info.txt'\n",
       "\\item 'features.txt'\n",
       "\\item 'README.txt'\n",
       "\\item 'test/Inertial Signals/body\\_acc\\_x\\_test.txt'\n",
       "\\item 'test/Inertial Signals/body\\_acc\\_y\\_test.txt'\n",
       "\\item 'test/Inertial Signals/body\\_acc\\_z\\_test.txt'\n",
       "\\item 'test/Inertial Signals/body\\_gyro\\_x\\_test.txt'\n",
       "\\item 'test/Inertial Signals/body\\_gyro\\_y\\_test.txt'\n",
       "\\item 'test/Inertial Signals/body\\_gyro\\_z\\_test.txt'\n",
       "\\item 'test/Inertial Signals/total\\_acc\\_x\\_test.txt'\n",
       "\\item 'test/Inertial Signals/total\\_acc\\_y\\_test.txt'\n",
       "\\item 'test/Inertial Signals/total\\_acc\\_z\\_test.txt'\n",
       "\\item 'test/subject\\_test.txt'\n",
       "\\item 'test/X\\_test.txt'\n",
       "\\item 'test/y\\_test.txt'\n",
       "\\item 'train/Inertial Signals/body\\_acc\\_x\\_train.txt'\n",
       "\\item 'train/Inertial Signals/body\\_acc\\_y\\_train.txt'\n",
       "\\item 'train/Inertial Signals/body\\_acc\\_z\\_train.txt'\n",
       "\\item 'train/Inertial Signals/body\\_gyro\\_x\\_train.txt'\n",
       "\\item 'train/Inertial Signals/body\\_gyro\\_y\\_train.txt'\n",
       "\\item 'train/Inertial Signals/body\\_gyro\\_z\\_train.txt'\n",
       "\\item 'train/Inertial Signals/total\\_acc\\_x\\_train.txt'\n",
       "\\item 'train/Inertial Signals/total\\_acc\\_y\\_train.txt'\n",
       "\\item 'train/Inertial Signals/total\\_acc\\_z\\_train.txt'\n",
       "\\item 'train/subject\\_train.txt'\n",
       "\\item 'train/X\\_train.txt'\n",
       "\\item 'train/y\\_train.txt'\n",
       "\\end{enumerate*}\n"
      ],
      "text/markdown": [
       "1. 'activity_labels.txt'\n",
       "2. 'features_info.txt'\n",
       "3. 'features.txt'\n",
       "4. 'README.txt'\n",
       "5. 'test/Inertial Signals/body_acc_x_test.txt'\n",
       "6. 'test/Inertial Signals/body_acc_y_test.txt'\n",
       "7. 'test/Inertial Signals/body_acc_z_test.txt'\n",
       "8. 'test/Inertial Signals/body_gyro_x_test.txt'\n",
       "9. 'test/Inertial Signals/body_gyro_y_test.txt'\n",
       "10. 'test/Inertial Signals/body_gyro_z_test.txt'\n",
       "11. 'test/Inertial Signals/total_acc_x_test.txt'\n",
       "12. 'test/Inertial Signals/total_acc_y_test.txt'\n",
       "13. 'test/Inertial Signals/total_acc_z_test.txt'\n",
       "14. 'test/subject_test.txt'\n",
       "15. 'test/X_test.txt'\n",
       "16. 'test/y_test.txt'\n",
       "17. 'train/Inertial Signals/body_acc_x_train.txt'\n",
       "18. 'train/Inertial Signals/body_acc_y_train.txt'\n",
       "19. 'train/Inertial Signals/body_acc_z_train.txt'\n",
       "20. 'train/Inertial Signals/body_gyro_x_train.txt'\n",
       "21. 'train/Inertial Signals/body_gyro_y_train.txt'\n",
       "22. 'train/Inertial Signals/body_gyro_z_train.txt'\n",
       "23. 'train/Inertial Signals/total_acc_x_train.txt'\n",
       "24. 'train/Inertial Signals/total_acc_y_train.txt'\n",
       "25. 'train/Inertial Signals/total_acc_z_train.txt'\n",
       "26. 'train/subject_train.txt'\n",
       "27. 'train/X_train.txt'\n",
       "28. 'train/y_train.txt'\n",
       "\n",
       "\n"
      ],
      "text/plain": [
       " [1] \"activity_labels.txt\"                         \n",
       " [2] \"features_info.txt\"                           \n",
       " [3] \"features.txt\"                                \n",
       " [4] \"README.txt\"                                  \n",
       " [5] \"test/Inertial Signals/body_acc_x_test.txt\"   \n",
       " [6] \"test/Inertial Signals/body_acc_y_test.txt\"   \n",
       " [7] \"test/Inertial Signals/body_acc_z_test.txt\"   \n",
       " [8] \"test/Inertial Signals/body_gyro_x_test.txt\"  \n",
       " [9] \"test/Inertial Signals/body_gyro_y_test.txt\"  \n",
       "[10] \"test/Inertial Signals/body_gyro_z_test.txt\"  \n",
       "[11] \"test/Inertial Signals/total_acc_x_test.txt\"  \n",
       "[12] \"test/Inertial Signals/total_acc_y_test.txt\"  \n",
       "[13] \"test/Inertial Signals/total_acc_z_test.txt\"  \n",
       "[14] \"test/subject_test.txt\"                       \n",
       "[15] \"test/X_test.txt\"                             \n",
       "[16] \"test/y_test.txt\"                             \n",
       "[17] \"train/Inertial Signals/body_acc_x_train.txt\" \n",
       "[18] \"train/Inertial Signals/body_acc_y_train.txt\" \n",
       "[19] \"train/Inertial Signals/body_acc_z_train.txt\" \n",
       "[20] \"train/Inertial Signals/body_gyro_x_train.txt\"\n",
       "[21] \"train/Inertial Signals/body_gyro_y_train.txt\"\n",
       "[22] \"train/Inertial Signals/body_gyro_z_train.txt\"\n",
       "[23] \"train/Inertial Signals/total_acc_x_train.txt\"\n",
       "[24] \"train/Inertial Signals/total_acc_y_train.txt\"\n",
       "[25] \"train/Inertial Signals/total_acc_z_train.txt\"\n",
       "[26] \"train/subject_train.txt\"                     \n",
       "[27] \"train/X_train.txt\"                           \n",
       "[28] \"train/y_train.txt\"                           "
      ]
     },
     "metadata": {},
     "output_type": "display_data"
    }
   ],
   "source": [
    "# defining the path where the new folder has been unziped\n",
    "pathdata = file.path(\"./data\", \"UCI HAR Dataset\")\n",
    "# creating a file with the 28 file names\n",
    "files = list.files(pathdata, recursive=TRUE)\n",
    "# viewing those files\n",
    "files"
   ]
  },
  {
   "cell_type": "code",
   "execution_count": 5,
   "metadata": {},
   "outputs": [],
   "source": [
    "### 1. Creating the data set of training and test\n",
    "#Reading training tables - xtrain / ytrain, subject train\n",
    "xtrain = read.table(file.path(pathdata, \"train\", \"X_train.txt\"),header = FALSE)\n",
    "ytrain = read.table(file.path(pathdata, \"train\", \"y_train.txt\"),header = FALSE)\n",
    "subject_train = read.table(file.path(pathdata, \"train\", \"subject_train.txt\"),header = FALSE)\n",
    "\n",
    "#Reading the testing tables\n",
    "xtest = read.table(file.path(pathdata, \"test\", \"X_test.txt\"),header = FALSE)\n",
    "ytest = read.table(file.path(pathdata, \"test\", \"y_test.txt\"),header = FALSE)\n",
    "subject_test = read.table(file.path(pathdata, \"test\", \"subject_test.txt\"),header = FALSE)\n",
    "\n",
    "#Reading the features data\n",
    "features = read.table(file.path(pathdata, \"features.txt\"),header = FALSE)\n",
    "\n",
    "#Reading activity labels data\n",
    "activityLabels = read.table(file.path(pathdata, \"activity_labels.txt\"),header = FALSE)"
   ]
  },
  {
   "cell_type": "code",
   "execution_count": 6,
   "metadata": {},
   "outputs": [],
   "source": [
    "# creating Sanity and Column Values to the Train Data\n",
    "colnames(xtrain) = features[,2]\n",
    "colnames(ytrain) = \"activityId\"\n",
    "colnames(subject_train) = \"subjectId\"\n",
    "\n",
    "# creating sanity and column values to the test data\n",
    "colnames(xtest) = features[,2]\n",
    "colnames(ytest) = \"activityId\"\n",
    "colnames(subject_test) = \"subjectId\"\n",
    "\n",
    "# creating sanity check for the activity labels value\n",
    "colnames(activityLabels) <- c('activityId','activityType')"
   ]
  },
  {
   "cell_type": "code",
   "execution_count": 7,
   "metadata": {},
   "outputs": [],
   "source": [
    "# merging the train and test data - important outcome of the project\n",
    "mrg_train = cbind(ytrain, subject_train, xtrain)\n",
    "mrg_test = cbind(ytest, subject_test, xtest)\n",
    "\n",
    "# creating the main data table merging both table tables - this is the outcome of 1\n",
    "setAllInOne = rbind(mrg_train, mrg_test)"
   ]
  },
  {
   "cell_type": "code",
   "execution_count": 8,
   "metadata": {},
   "outputs": [],
   "source": [
    "\n",
    "colNames = colnames(setAllInOne)\n",
    "\n",
    "# getting a subset of all the mean and standards and the correspondongin activityID and subjectID \n",
    "mean_and_std = (grepl(\"activityId\" , colNames) | grepl(\"subjectId\" , colNames) | grepl(\"mean..\" , colNames) | grepl(\"std..\" , colNames))\n",
    "\n",
    "setForMeanAndStd <- setAllInOne[ , mean_and_std == TRUE]"
   ]
  },
  {
   "cell_type": "code",
   "execution_count": 9,
   "metadata": {},
   "outputs": [],
   "source": [
    "setWithActivityNames = merge(setForMeanAndStd, activityLabels, by='activityId', all.x=TRUE)"
   ]
  },
  {
   "cell_type": "code",
   "execution_count": 10,
   "metadata": {},
   "outputs": [],
   "source": [
    "# creating a new tidy set\n",
    "secTidySet <- aggregate(. ~subjectId + activityId, setWithActivityNames, mean)\n",
    "secTidySet <- secTidySet[order(secTidySet$subjectId, secTidySet$activityId),]"
   ]
  },
  {
   "cell_type": "code",
   "execution_count": 11,
   "metadata": {},
   "outputs": [],
   "source": [
    "# writing the output to a txt file \n",
    "write.table(secTidySet, \"secTidySet.txt\", row.name=FALSE)"
   ]
  },
  {
   "cell_type": "code",
   "execution_count": null,
   "metadata": {},
   "outputs": [],
   "source": []
  }
 ],
 "metadata": {
  "kernelspec": {
   "display_name": "R",
   "language": "R",
   "name": "ir"
  },
  "language_info": {
   "codemirror_mode": "r",
   "file_extension": ".r",
   "mimetype": "text/x-r-source",
   "name": "R",
   "pygments_lexer": "r",
   "version": "3.4.2"
  }
 },
 "nbformat": 4,
 "nbformat_minor": 2
}
